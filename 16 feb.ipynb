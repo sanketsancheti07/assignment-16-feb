{
 "cells": [
  {
   "cell_type": "markdown",
   "id": "2621d31f-5bfc-4a9f-8180-d52e0677734b",
   "metadata": {},
   "source": [
    "MySQL Assignment 16 Feb\n"
   ]
  },
  {
   "cell_type": "markdown",
   "id": "7dfab0f3-83ed-4f1d-a55b-b4a3e3455ed5",
   "metadata": {},
   "source": [
    "    Q1. What is a database? Differentiate between SQL and NoSQL databases.\n",
    "\n",
    "SQL : RELATIONAL DATABASE MANAGEMENT SYSTEM (RDBMS) NoSQL : Non-relational or distributed database system.\n",
    "\n",
    "ANS :\n",
    "\n",
    "A database is a collection of data that is organized in a systematic way, making it easy to access, manage, and update.\n",
    "\n",
    "SQL : Relational database management system\n",
    "\n",
    "NOSQL : Non-relational or distributed database system.\n",
    "\n",
    "SQL : These databases have fixed or static or predefined schema\n",
    "\n",
    "NOSQL : They have dynamic schema\n",
    "\n",
    "SQL : These databases are not suited for hierarchical data storage.\n",
    "\n",
    "NOSQL : These databases are best suited for hierarchical data storage.\n",
    "\n",
    "SQL : Examples: MySQL, PostgreSQL, Oracle, MS-SQL Server, etc\n",
    "\n",
    "NOSQL : Examples: MongoDB, GraphQL, HBase, Neo4j, Cassandra, etc"
   ]
  },
  {
   "cell_type": "markdown",
   "id": "870b5cc0-1470-4192-a462-a7aa4401700e",
   "metadata": {},
   "source": [
    "    Q2. What is DDL? Explain why CREATE, DROP, ALTER, and TRUNCATE are used with an example.\n",
    "\n",
    "ANS :\n",
    "\n",
    "DDL stands for Data Definition Language. It is a set of SQL commands used to define, modify, and delete database objects such as tables, indexes, constraints, and views. The four primary commands in DDL are CREATE, DROP, ALTER, and TRUNCATE.\n",
    "\n",
    "CREATE:\n",
    "CREATE is used to create new database objects such as tables, views, indexes, and stored procedures.\n",
    "\n",
    "CREATE DATABASES TEST_DATABASE;\n",
    "\n",
    "USE TEST_DATABASE ;\n",
    "\n",
    "CREATE TABLE STUDENT(C1 INT,C2 VARCHAR(20),C2 INT);\n",
    "\n",
    "DROP:\n",
    "\n",
    "DROP is used to delete an existing database object.\n",
    "\n",
    "DROP TABLE STUDENT;\n",
    "\n",
    "ALTER:\n",
    "\n",
    "ALTER is used to modify an existing database object such as a table or column.\n",
    "\n",
    "ALTER TABLE ADD COULMN Name VARCHAR(24);\n",
    "\n",
    "TRUNCATE\n",
    "\n",
    "The TRUNCATE TABLE command deletes the data inside a table, but not the table itself.\n",
    "\n"
   ]
  },
  {
   "cell_type": "markdown",
   "id": "c982bcc7-e8d0-439f-b1c0-436f094aebac",
   "metadata": {},
   "source": [
    "    Q3. What is DML? Explain INSERT, UPDATE, and DELETE with an example.\n",
    "\n",
    "ANS : Stand for data manipulation language statements are used to retrieve, add, delete, and modify the data that is stored in the objects of database.\n",
    "\n",
    "A) INSERT : The INSERT statement is used to insert a new row in the database that is adding data to a table.\n",
    "\n",
    "EXAMPLE : INSERT INTO STUDENTS VALUES(123,'SIDDHU',21);\n",
    "\n",
    "b) UPDATE : The UPDATE statement is used to update the data or row in the table.\n",
    "\n",
    "EXAMPLE : UPDATE STUDENTS SET C2 = 'BABLU' WHERE C1 = 123 ;\n",
    "\n",
    "C) DELETE : The DELETE statement is used to delete existing records in a table.\n",
    "\n",
    "EXAMPLE : DELETE FROM STUDENTS WHERE C2='BABLU';"
   ]
  },
  {
   "cell_type": "markdown",
   "id": "a5ee1169-693a-46f9-8097-b8136a53af3a",
   "metadata": {},
   "source": [
    "    Q4. What is DQL? Explain SELECT with an example.\n",
    "\n",
    "ANS : DQL stand for Data Query Language DQL statements are used for performing queries on the data within schema objects.\n",
    "\n",
    "SELECT : SELECT statement retrieves records from a database table according to clauses (for example, FROM and WHERE ) that specify criteria.\n",
    "\n",
    "EXAMPLE : SELECT * FROM STUDENTS ;"
   ]
  },
  {
   "cell_type": "markdown",
   "id": "fdaf4974-ccac-463d-a0b0-080f2363f76e",
   "metadata": {},
   "source": [
    "    Q5. Explain Primary Key and Foreign Key.\n",
    "\n",
    "ANS :\n",
    "\n",
    "PRIMARY KEY : A primary key is the column or columns that contain values that uniquely identify each row in a table. A database table must have a primary key for Optim to insert, update, restore, or delete data from a database table.\n",
    "\n",
    "FOREIGN KEY : A foreign key is a column (or combination of columns) in a table whose values must match values of a column in some other table. FOREIGN KEY constraints enforce referential integrity, which essentially says that if column value A refers to column value B, then column value B must exist."
   ]
  },
  {
   "cell_type": "markdown",
   "id": "81146b51-ba9e-43b3-a73c-cc7bfc7286d5",
   "metadata": {},
   "source": [
    "    Q6. Write a python code to connect MySQL to python. Explain the cursor() and execute() method.\n",
    "\n",
    "import mysql.connector\n",
    "\n",
    "mydb = mysql.connector.connect( host = 'localhost', user = 'abc', password = 'password')\n",
    "\n",
    "print(mydb)\n",
    "\n",
    "cursor : It is an object that is used to make the connection for executing SQL queries. It acts as middleware between SQLite database connection and SQL query. It is created after giving connection to SQLite database.\n",
    "\n",
    "execute : To execute a SQL query in Python, you'll need to use a cursor, which abstracts away the access to database records. MySQL Connector/Python provides you with the MySQLCursor class, which instantiates objects that can execute MySQL queries in Python. An instance of the MySQLCursor class is also called a cursor ."
   ]
  },
  {
   "cell_type": "markdown",
   "id": "7c140597-05c7-4e07-8520-7f6d9e6e1022",
   "metadata": {},
   "source": [
    "    Q7. Give the order of execution of SQL clauses in an SQL query.\n",
    "\n",
    "FROM/JOIN: The FROM and/or JOIN clauses are executed first to determine the data of interest.\n",
    "\n",
    "WHERE: The WHERE clause is executed to filter out records that do not meet the constraints.\n",
    "\n",
    "GROUP BY: The GROUP BY clause is executed to group the data based on the values in one or more columns.\n",
    "\n",
    "HAVING: The HAVING clause is executed to remove the created grouped records that don’t meet the constraints.\n",
    "\n",
    "SELECT: The SELECT clause is executed to derive all desired columns and expressions.\n",
    "\n",
    "ORDER BY: The ORDER BY clause is executed to sort the derived values in ascending or descending order.\n",
    "\n",
    "LIMIT/OFFSET: Finally, the LIMIT and/or OFFSET clauses are executed to keep or skip a specified number of rows."
   ]
  },
  {
   "cell_type": "code",
   "execution_count": null,
   "id": "6f213fc0-95bb-414c-8a5b-44cf02f289b5",
   "metadata": {},
   "outputs": [],
   "source": []
  }
 ],
 "metadata": {
  "kernelspec": {
   "display_name": "Python 3 (ipykernel)",
   "language": "python",
   "name": "python3"
  },
  "language_info": {
   "codemirror_mode": {
    "name": "ipython",
    "version": 3
   },
   "file_extension": ".py",
   "mimetype": "text/x-python",
   "name": "python",
   "nbconvert_exporter": "python",
   "pygments_lexer": "ipython3",
   "version": "3.10.8"
  }
 },
 "nbformat": 4,
 "nbformat_minor": 5
}
